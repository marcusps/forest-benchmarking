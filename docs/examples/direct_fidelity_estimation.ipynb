{
 "cells": [
  {
   "cell_type": "markdown",
   "metadata": {},
   "source": [
    "# Direct Fidelity Estimation\n",
    "\n",
    "Using a method known as direct fidelity estimation (DFE), see [DFE1] and [DFE2], it is possible to estimate the fidelity between \n",
    "* a target pure state $\\rho_\\psi = |\\psi\\rangle\\langle \\psi|$ and its experimental realization $\\sigma$,\n",
    "* a target unitary $U$ and its experimental realization $U_e$.\n",
    " \n",
    "This can be done with a small number (relative to state and process tomography) of simple experimental settings that is independent of the system size. Such methods are useful for the experimental study of larger quantum information processing units.\n",
    "\n",
    "In this notebook we explore some state and process DFE using the forest.benchmarking module `direct_fidelity_estimation.py`."
   ]
  },
  {
   "cell_type": "markdown",
   "metadata": {},
   "source": [
    "| [DFE1] *Practical Characterization of Quantum Devices without Tomography.*  \n",
    "|        Silva et al.  \n",
    "|        PRL 107, 210404 (2011).  \n",
    "|        https://doi.org/10.1103/PhysRevLett.107.210404  \n",
    "|        https://arxiv.org/abs/1104.3835  \n",
    "\n",
    "| [DFE2]  *Direct Fidelity Estimation from Few Pauli Measurements.*  \n",
    "|        Flammia et al.  \n",
    "|        PRL 106, 230501 (2011).  \n",
    "|        https://doi.org/10.1103/PhysRevLett.106.230501  \n",
    "|        https://arxiv.org/abs/1104.4695  "
   ]
  },
  {
   "cell_type": "markdown",
   "metadata": {},
   "source": [
    "## Simplistic state DFE example\n",
    "\n",
    "Suppose we have tried to prepare the state $|0\\rangle$, with state matrix $\\rho_0 = |0\\rangle \\langle 0 |$, but in fact prepared the state\n",
    "\n",
    "$$\\sigma = \\frac 1 2 (I + x X + y Y + z Z)$$\n",
    "\n",
    "\n",
    "The usual way to quantify how close $\\sigma$ and $\\rho_0$ are is to use quantum state tomography \n",
    "to estimate $\\sigma$ and then calculate the fidelity between $\\sigma$ and $\\rho_0$.\n",
    "\n",
    "\n",
    "DFE provides a way to directly estimate the fidelity without first estimating the state $\\sigma$. To see this, first note that since $\\rho_0$ is a pure state (our estimate $\\sigma$ in general is not) we can write the [fidelity](https://en.wikipedia.org/wiki/Fidelity_of_quantum_states#Definition) as $F(\\rho_0, \\sigma) = \\langle 0 |\\sigma|0 \\rangle$. This is equivalent to \n",
    "\n",
    "$$F(\\rho_0, \\sigma) = {\\rm Tr}[\\rho_0  \\sigma]$$\n",
    "\n",
    "using the [cyclic property of the trace](https://en.wikipedia.org/wiki/Trace_(linear_algebra%29#Cyclic_property). \n",
    "Next we parameterize the pure state as\n",
    "\n",
    "$$\\rho_0= |0\\rangle \\langle 0| =  \\frac 1 2 \\big (I + (0) X + (0) Y + (+1) Z \\big)=  \\frac 1 2 (I +  Z )$$\n",
    "\n",
    "Finally we arrive at\n",
    "\n",
    "$$F(\\rho_0, \\sigma)= {\\rm Tr}[\\rho_0 \\sigma] = \\frac 1 4 {\\rm Tr}[(1+z)I]= \\frac{(1+z)}{2}$$\n",
    "\n",
    "This result shows that we only need to estimate one observable expectation $\\langle Z \\rangle \\rightarrow \\tilde z$ in order to estimate the fidelity between $\\rho_0$ and $\\sigma$ in this particular example.\n",
    "\n",
    "## Generalizing state DFE, somewhat\n",
    "\n",
    "The code that we've developed has some assumptions baked in that are important to understand. We have implemented DFE for a restricted subset of states and processes using these assumptions.\n",
    "\n",
    "To start, we assume that our start state is always the pure state $|0 \\rangle$ on all qubits. On $n$ qubits this state can be decomposed as\n",
    "\n",
    "$$\\rho_0^{\\otimes n} = \\left(I_0 + Z_0\\right) \\otimes \\left(I_1 + Z_1\\right) \\otimes \\dots \\left(I_n + Z_n\\right) / 2^n  = \\frac{1}{2^n} \\sum_{k=1}^{2^n} P^{(IZ)}_k$$\n",
    "\n",
    "where we have expanded the tensor multiplication into one large sum over all possible of combinations $P^{(IZ)}_k$ of I and Z Pauli terms. From this start point we apply the user specified program $U$, or rather the noisy implementation $\\mathcal E( \\cdot )$, to prepare the state $\\sigma$. \n",
    "\n",
    "$$\\sigma = \\mathcal E(\\rho_0^{\\otimes n})$$\n",
    "\n",
    "Meanwhile we want to calculate the fidelity between $\\sigma$ and the ideally prepared state $\\rho = U \\rho_0^{\\otimes n} U^\\dagger$. By linearity we can calculate $\\rho$ by conjugating each Pauli term $P^{(IZ)}$ in the sum above by the ideal program $U$.\n",
    "\n",
    "$$\\rho = \\frac{1}{2^n} \\sum_k U P^{(IZ)}_k U^\\dagger$$\n",
    "\n",
    "**The assumption** we make is that the ideal prep program $U$ is an element of the Clifford group. Since the Clifford group is the [normalizer](https://en.wikipedia.org/wiki/Centralizer_and_normalizer) of the Pauli group, these conjugated terms $U P^{(IZ)}_k U^\\dagger$ will again be some Pauli $P'_k$ (in the code we use a `pyquil.BenchmarkConnection` to quickly calculate the resultant Pauli). Following the example above we arrive at the set of $2^n$ Paulis $\\{P'_k\\}_k$ whose expectations we need to estimate with respect to the physical state $\\sigma$. The estimate is the average of all these Pauli expectations (see Eqn. 1 of [DFE1]). \n",
    "\n",
    "$$F(\\rho_0^{\\otimes n}, \\sigma)= {\\rm Tr}[\\rho_0^{\\otimes n} \\sigma] = \\frac{1}{2^n} \\sum_{k=1}^{2^n} {\\rm Tr}[ \\mathcal E(\\rho_0^{\\otimes n}) P'_k]$$\n",
    "\n",
    "Note that we don't need to estimate the expectation of the trivial all $I$ term since we know its expectation is 1. We exclude this term in experiment generation but include it in the analysis 'by hand'. \n",
    "\n",
    "## Process DFE\n",
    "\n",
    "The [average gate fidelity](https://arxiv.org/pdf/quant-ph/0205035.pdf) between an experimental process $\\mathcal E$ and the ideal (unitary) process $\\mathcal U$ is given by\n",
    "\n",
    "$$F(\\mathcal U,\\mathcal E) = \\frac{ {\\rm Tr} [\\mathcal E \\mathcal U^\\dagger] + d} {d^2+d}$$\n",
    "\n",
    "where the processes are represented by linear superoperators acting on vectorized\n",
    "density matrices, and d is the dimension of the Hilbert space $\\mathcal H$ that $\\mathcal E$ and $\\mathcal U$ act on. If you are unfamiliar with these terms look at [superoperator tools notebook](superoperator_tools.ipynb) and [superoperator_representations.md](../superoperator_representations.rst)\n",
    "\n",
    "Using the $d^2$ dimensional orthonormal Pauli basis $\\{P_k\\}$ for superoperators on $\\mathcal H$--e.g. $\\{I/\\sqrt{2}, X/\\sqrt{2}, Y/\\sqrt{2}, Z/\\sqrt{2} \\}$ for a single qubit--we can expand the trace and insert an identity superoperator between $\\mathcal U$ and $\\mathcal E$; this amounts to re-casting these superoperators in the Pauli-Liouville representation (aka Pauli Transfer Matrix). (again, see [superoperator_representations.md](../superoperator_representations.rst) if you are unfamiliar with vec notation $P_k \\iff \\left| P_k \\rangle\\rangle\\langle\\langle P_k\\right|$):\n",
    "\n",
    "$${\\rm Tr} [\\mathcal E \\mathcal U^\\dagger] = {\\rm Tr} [\\mathcal E   \\left( \\sum_k \\left| P_k \\rangle\\rangle\\langle\\langle P_k\\right| \\right) \\mathcal U^\\dagger]$$\n",
    "\n",
    "$$= \\sum_k {\\rm Tr} [  \\left( \\langle\\langle P_k | \\mathcal U^\\dagger \\right) \\left(\\mathcal E | P_k \\rangle\\rangle \\right) ]$$\n",
    "\n",
    "$$= \\sum_k {\\rm Tr} [  \\left( \\mathcal U |  P_k \\rangle\\rangle  \\right)^\\dagger \\left(\\mathcal E | P_k \\rangle\\rangle \\right) ]$$\n",
    "\n",
    "Now we switch representations by unveccing  $|  P_k \\rangle\\rangle$ and representing $\\mathcal U$ by its unitary action on the matrix $P_k$.\n",
    "\n",
    "$$= \\sum_k {\\rm Tr} [  \\left( U P_k U^\\dagger \\right)^\\dagger \\cdot \\mathcal E \\left( P_k \\right) ]$$\n",
    "\n",
    "Finally we can decompose the $P_k$ acted on by $\\mathcal E$ into a sum over projectors onto each eigenvector $\\left|\\phi_j \\rangle\\langle \\phi_j \\right|$ with the correct sign for the eigenvalue (which is $\\pm 1$ for Paulis).\n",
    "\n",
    "$$= \\sum_k \\left( \\sum_{\\phi_j^{(+)} \\in \\{\\phi\\}_k^+} \\frac{1}{\\sqrt{d}} {\\rm Tr} [  \\left( U P_k U^\\dagger \\right) \\cdot \\mathcal E \\left( \\left|\\phi_j^{(+)}\\rangle\\langle\\phi_j^{(+)}\\right| \\right) ]\n",
    "- \\sum_{\\phi_j^{(-)} \\in \\{\\phi\\}_k^-} \\frac{1}{\\sqrt{d}} {\\rm Tr} [  \\left( U P_k U^\\dagger \\right) \\cdot \\mathcal E \\left( \\left|\\phi_j^{(-)}\\rangle\\langle\\phi_j^{(-)}\\right| \\right) ]\\right)$$\n",
    "\n",
    "At this point our **assumption** that $U$ is a Clifford element again comes into play and allows us to easily compute the conjugated Pauli $U P_k U^\\dagger = \\sigma_k / \\sqrt{d}$. Inserting this assumption gives a simple picture where we need to estimate the expectation of each $\\sigma_k$ Pauli for the state which results from applying our noisy circuit $\\mathcal E$ to each eigenstate $\\left| \\phi_j \\rangle \\right.$ of $P_k$.\n",
    "\n",
    "$$= \\frac{1}{d} \\sum_k \\left( \\sum_{\\phi_j^{(+)} \\in \\{\\phi\\}_k^+} {\\rm Tr} [ \\sigma_k \\cdot \\mathcal E \\left( \\left|\\phi_j^{(+)}\\rangle\\langle\\phi_j^{(+)}\\right| \\right) ]\n",
    "- \\sum_{\\phi_j^{(-)} \\in \\{\\phi\\}_k^-} {\\rm Tr} [  \\sigma_k \\cdot \\mathcal E \\left( \\left|\\phi_j^{(-)}\\rangle\\langle\\phi_j^{(-)}\\right| \\right) ]\\right)$$\n",
    "\n",
    "The final estimate of $F(\\mathcal U,\\mathcal E)$ follows from estimating these expectations, plugging them in to the sum to get ${\\rm Tr} [\\mathcal E \\mathcal U^\\dagger]$ which we insert into the equation at the beginning of the section. Note that moving a factor of $1/d$ from the Fidelity expression into the trace expression allows us to re-interpret the trace as an average of all of the $d^3$ Pauli expectations. Further, again note that we do not need to estimate the all identity Pauli expectations, which will all be 1. This reduces the number of experiment settings to $(d^2-1)d$.\n",
    "\n",
    "\n",
    "## Process DFE by reduction to state DFE\n",
    "\n",
    "We can also understand process DFE by appealing to the [Choi–Jamiołkowski isomorphism](https://en.wikipedia.org/wiki/Channel-state_duality) which says that we can represent our channel superoperators as state matrices (i.e. density matrices)  $J(\\mathcal E)$ and $J(\\mathcal U)$. This allows us to rewrite the average gate fidelity as \n",
    "\n",
    "$$F(\\mathcal U,\\mathcal E)= \\frac{d^2 {\\rm Tr}[ J(\\mathcal E)⋅J(\\mathcal U)] + d}{d^2+d}$$\n",
    "\n",
    "Finally, since $J(\\mathcal U)$ is a pure state, we employ the same fact from above about fidelity between states to note that ${\\rm Tr}[ J(\\mathcal E)⋅J(\\mathcal U)] = F(J(\\mathcal E),J(\\mathcal U))$. We have reduced process DFE to state DFE, but we need to dive into the particulars of $J(\\cdot)$ to understand what we actually need to measure.\n",
    "\n",
    "For $U$ acting on $n$ qubits the state $J(\\mathcal U)$ over $2n$ qubits is given by \n",
    "\n",
    "$$J(\\mathcal U) = \\left(\\textrm{Id} \\otimes \\mathcal U\\right) \\left(\\sum_{k=0}^{2^n-1}\\sum_{k'=0}^{2^n-1} |k\\rangle \\langle k'| \\otimes |k \\rangle \\langle k'|\\right) = \\sum_{k=0}^{2^n-1}\\sum_{k'=0}^{2^n-1} |k\\rangle \\langle k'| \\otimes U |k \\rangle   \\langle k'| U^\\dagger$$\n",
    "\n",
    "where $|k \\rangle$ is the state over $n$ qubits corresponding to the binary representation of $k$. The state matrix for the maximally entangled state on which $\\textrm{Id} \\otimes \\mathcal U$ acts can be decomposed as:\n",
    "\n",
    "$$\\sum_{k=0}^{d-1} \\sum_{k'=0}^{d-1} | k k \\rangle \\langle k' k'| = \\frac{1}{d}\\sum_j P_j^* \\otimes P_j$$\n",
    "\n",
    "where the sum is over the complete orthonormal Pauli basis $\\{P_j\\}$ (i.e. $\\sigma_j/\\sqrt{d}$) for a $d$ dimensional Hilbert space. This gives us\n",
    "\n",
    "$$d^2 {\\rm Tr}[ J(\\mathcal E)⋅J(\\mathcal U)] = d^2{\\rm Tr}[ \\left(\\frac{1}{d}\\sum_k P_k^* \\otimes \\mathcal E(P_k)\\right) \\left(\\frac{1}{d}\\sum_j P_j^* \\otimes U P_j U^\\dagger\\right)]$$\n",
    "\n",
    "If we partially evaluate the trace over the first subsystem and use ${\\rm Tr}[P_k^* P_j^*] = {\\rm Tr}[\\left(P_k P_j\\right)^*] = {\\rm Tr}[P_k P_j]^* = {\\rm Tr}[P_k^\\dagger P_j]^* = \\delta_{jk}$ we get \n",
    "\n",
    "$$= \\sum_k {\\rm Tr} [  \\left( U P_k U^\\dagger \\right)^\\dagger \\cdot \\mathcal E \\left( P_k \\right) ]$$\n",
    "\n",
    "This is the same expression as from the last section, so we can proceed identically."
   ]
  },
  {
   "cell_type": "code",
   "execution_count": 1,
   "metadata": {},
   "outputs": [],
   "source": [
    "from pyquil.paulis import ID\n",
    "from pyquil.gates import I, X, MEASURE, H, CNOT, RY, CZ\n",
    "from pyquil import Program, get_qc\n",
    "from pyquil.api import BenchmarkConnection\n",
    "from forest.benchmarking.direct_fidelity_estimation import ( generate_exhaustive_state_dfe_experiment, \n",
    "                                                             generate_exhaustive_process_dfe_experiment,\n",
    "                                                             generate_monte_carlo_state_dfe_experiment, \n",
    "                                                             generate_monte_carlo_process_dfe_experiment,\n",
    "                                                             acquire_dfe_data,\n",
    "                                                             estimate_dfe )\n",
    "\n",
    "import numpy as np\n",
    "from matplotlib import pyplot"
   ]
  },
  {
   "cell_type": "code",
   "execution_count": 2,
   "metadata": {},
   "outputs": [],
   "source": [
    "# noiseless QVM\n",
    "qvm = get_qc(\"9q-square-qvm\", noisy=False)\n",
    "\n",
    "# noisy QVM\n",
    "noisy_qvm = get_qc(\"9q-square-qvm\", noisy=True)\n",
    "\n",
    "bm = BenchmarkConnection()"
   ]
  },
  {
   "cell_type": "markdown",
   "metadata": {},
   "source": [
    "## Direct fidelity estimation in `forest.benchmarking`"
   ]
  },
  {
   "cell_type": "markdown",
   "metadata": {},
   "source": [
    "The basic workflow is:\n",
    "\n",
    "1. Prepare a *state* or a *process* by specifying a pyQuil program.\n",
    "2. Construct a list of observables that are needed to estimate the state; we collect this into an object called an `ObservablesExperiment`.\n",
    "3. Acquire the data by running the program on a QVM or QPU.\n",
    "4. Apply an estimator to the data to obtain an estimate of the fidelity between the ideal and measured state or process.\n",
    "5. Visualize if you wish."
   ]
  },
  {
   "cell_type": "markdown",
   "metadata": {},
   "source": [
    "## Two quick examples"
   ]
  },
  {
   "cell_type": "markdown",
   "metadata": {},
   "source": [
    "### Step 1. Specify a state preparation or unitarty process with a `Program`\n",
    "\n",
    "This is the object we will do DFE on.\n",
    "\n",
    "The process we choose is \n",
    "\n",
    "$$U = {\\rm CNOT}(H\\otimes I)=\\frac{1}{\\sqrt{2}}\n",
    "\\begin{pmatrix}\n",
    "1 & 0 & 1 & 0\\\\\n",
    "0 & 1 & 0 & 1\\\\\n",
    "0 & 1 & 0 & -1\\\\\n",
    "1 & 0 & -1 & 0\n",
    "\\end{pmatrix}$$\n",
    "\n",
    "and the state is\n",
    "\n",
    "$$|\\Psi\\rangle = {\\rm CNOT}(H\\otimes I)|00\\rangle = \\frac{1}{\\sqrt{2}} \\begin{pmatrix} 1\\\\0\\\\0\\\\ 1\\end{pmatrix}$$\n",
    "\n",
    "Perhaps we should emphasize that while the `Program` that we pass into the DFE module is the same whether we are doing process DFE on $\\tilde U$ or state DFE on $\\tilde \\Psi$, the specific experiment construction method we choose in the next step selects one or the other and results in different `ExperimentSettings` around the same `Program`."
   ]
  },
  {
   "cell_type": "code",
   "execution_count": 3,
   "metadata": {},
   "outputs": [
    {
     "name": "stdout",
     "output_type": "stream",
     "text": [
      "H 0\n",
      "CNOT 0 1\n",
      "\n"
     ]
    }
   ],
   "source": [
    "p = Program()\n",
    "prep_prog = p.inst(H(0), CNOT(0,1))\n",
    "print(prep_prog)"
   ]
  },
  {
   "cell_type": "code",
   "execution_count": 4,
   "metadata": {},
   "outputs": [
    {
     "name": "stdout",
     "output_type": "stream",
     "text": [
      "[[ 0.70710678  0.          0.70710678  0.        ]\n",
      " [ 0.          0.70710678  0.          0.70710678]\n",
      " [ 0.          0.70710678  0.         -0.70710678]\n",
      " [ 0.70710678  0.         -0.70710678  0.        ]]\n",
      "[[0.5 0.  0.  0.5]\n",
      " [0.  0.  0.  0. ]\n",
      " [0.  0.  0.  0. ]\n",
      " [0.5 0.  0.  0.5]]\n"
     ]
    }
   ],
   "source": [
    "from pyquil.simulation.matrices import I as Imatrix, H as Hmatrix, CNOT as CNOTmatrix\n",
    "\n",
    "U_ideal = CNOTmatrix @ np.kron(Hmatrix, Imatrix)\n",
    "print(U_ideal)\n",
    "\n",
    "rho_ideal = U_ideal @ np.array([[1], [0], [0], [0]]) @ np.array([[1], [0], [0], [0]]).T @ U_ideal.conj().T\n",
    "print(rho_ideal)"
   ]
  },
  {
   "cell_type": "markdown",
   "metadata": {},
   "source": [
    "### Step 2. Construct an `ObservablesExperiment` for DFE\n",
    "\n",
    "We use the helper functions\n",
    "\n",
    "* `generate_exhaustive_state_dfe_experiment` \n",
    "* `generate_exhaustive_process_dfe_experiment`\n",
    "\n",
    "to construct a (tomographically incomplete) set of preparations + measurements (i.e. `ExperimentSettings`) for state and process DFE respectively"
   ]
  },
  {
   "cell_type": "code",
   "execution_count": 5,
   "metadata": {},
   "outputs": [],
   "source": [
    "qubits = [0,1]\n",
    "\n",
    "# state dfe\n",
    "state_exp = generate_exhaustive_state_dfe_experiment(bm, prep_prog, qubits)\n",
    "\n",
    "# process dfe\n",
    "process_exp = generate_exhaustive_process_dfe_experiment(bm, prep_prog, qubits)"
   ]
  },
  {
   "cell_type": "markdown",
   "metadata": {},
   "source": [
    "For state DFE we can print this experiment object out to see the $d - 1 = 2^2-1= 3$ observables whose expectation we will estimate (i.e. the measurements we will perform). Note that we could have included an additional observable `->I0I1`, but since this trivially gives an expectation of 1 we instead omit this observable in experiment generation and include its contribution by hand in the estimation methods. Be mindful of this if generating your own settings."
   ]
  },
  {
   "cell_type": "code",
   "execution_count": 6,
   "metadata": {},
   "outputs": [
    {
     "name": "stdout",
     "output_type": "stream",
     "text": [
      "The type of the object is: <class 'forest.benchmarking.observable_estimation.ObservablesExperiment'> \n",
      "\n",
      "The program is:\n",
      "H 0\n",
      "CNOT 0 1\n",
      "\n",
      "There are three different settings:\n",
      "0: Z+_0 * Z+_1→(1+0j)*Z0Z1\n",
      "1: Z+_0 * Z+_1→(1+0j)*X0X1\n",
      "2: Z+_0 * Z+_1→(-1+0j)*Y0Y1\n"
     ]
    }
   ],
   "source": [
    "# Let's take a look into one of these experiment objects\n",
    "\n",
    "print('The type of the object is:', type(state_exp),'\\n')\n",
    "print('The program is:')\n",
    "print(state_exp.program)\n",
    "print('There are three different settings:')\n",
    "print(state_exp.settings_string())"
   ]
  },
  {
   "cell_type": "markdown",
   "metadata": {},
   "source": [
    "Let's also look at a few of the settings for process DFE. Here our omission of trivial Identity terms means that we are summing over only the $d^2 - 1 = 15$ total unique observables measured. For each of these observables we prepare the $d = 4$ different initial preparations of eigenstates of the pre-circuit-conjugated observable. (For each Identity term of the pre-conjugated observable we still prepare two separate eigenstates, which we arbitrarily choose to be the two computational basis states on that qubit.) This gives us $60$ total settings.\n",
    "\n",
    "Note that we have incorporated the minus sign into the observables paired with preparations of the negative eigenstates. This means that for ideal no-noise data collection we will get expectations all equal to positive 1. (we have chosen our observables so that the ideal state is always in the positive eigenvalue subspace). "
   ]
  },
  {
   "cell_type": "code",
   "execution_count": 7,
   "metadata": {},
   "outputs": [
    {
     "name": "stdout",
     "output_type": "stream",
     "text": [
      "The program is, again:\n",
      "H 0\n",
      "CNOT 0 1\n",
      "\n",
      "There are more settings:\n",
      "0: Z+_0 * X+_1→(1+0j)*X1\n",
      "1: Z+_0 * X-_1→(-1+0j)*X1\n",
      "2: Z-_0 * X+_1→(1+0j)*X1\n",
      "3: Z-_0 * X-_1→(-1+0j)*X1\n",
      "4: Z+_0 * Y+_1→(1+0j)*Z0Y1\n",
      "5: Z+_0 * Y-_1→(-1+0j)*Z0Y1\n",
      "6: Z-_0 * Y+_1→(1+0j)*Z0Y1\n",
      "7: Z-_0 * Y-_1→(-1+0j)*Z0Y1\n",
      "8: Z+_0 * Z+_1→(1+0j)*Z0Z1\n",
      "9: Z+_0 * Z-_1→(-1+0j)*Z0Z1\n",
      "10: Z-_0 * Z+_1→(1+0j)*Z0Z1\n",
      "11: Z-_0 * Z-_1→(-1+0j)*Z0Z1\n",
      "12: X+_0 * Z+_1→(1+0j)*Z0\n",
      "13: X+_0 * Z-_1→(1+0j)*Z0\n",
      "14: X-_0 * Z+_1→(-1+0j)*Z0\n",
      "15: X-_0 * Z-_1→(-1+0j)*Z0\n",
      "16: X+_0 * X+_1→(1+0j)*Z0X1\n",
      "17: X+_0 * X-_1→(-1+0j)*Z0X1\n",
      "18: X-_0 * X+_1→(-1+0j)*Z0X1\n",
      "19: X-_0 * X-_1→(1+0j)*Z0X1\n",
      "20: X+_0 * Y+_1→(1+0j)*Y1\n",
      "21: X+_0 * Y-_1→(-1+0j)*Y1\n",
      "22: X-_0 * Y+_1→(-1+0j)*Y1\n",
      "23: X-_0 * Y-_1→(1+0j)*Y1\n",
      "24: X+_0 * Z+_1→(1+0j)*Z1\n",
      "25: X+_0 * Z-_1→(-1+0j)*Z1\n",
      "26: X-_0 * Z+_1→(-1+0j)*Z1\n",
      "27: X-_0 * Z-_1→(1+0j)*Z1\n",
      "28: Y+_0 * Z+_1→(-1+0j)*Y0X1\n",
      "29: Y+_0 * Z-_1→(-1+0j)*Y0X1\n",
      "30: Y-_0 * Z+_1→(1-0j)*Y0X1\n",
      "31: Y-_0 * Z-_1→(1-0j)*Y0X1\n",
      "32: Y+_0 * X+_1→(-1+0j)*Y0\n",
      "33: Y+_0 * X-_1→(1-0j)*Y0\n",
      "34: Y-_0 * X+_1→(1-0j)*Y0\n",
      "35: Y-_0 * X-_1→(-1+0j)*Y0\n",
      "36: Y+_0 * Y+_1→(1+0j)*X0Z1\n",
      "37: Y+_0 * Y-_1→(-1+0j)*X0Z1\n",
      "38: Y-_0 * Y+_1→(-1+0j)*X0Z1\n",
      "39: Y-_0 * Y-_1→(1+0j)*X0Z1\n",
      "40: Y+_0 * Z+_1→(-1+0j)*X0Y1\n",
      "41: Y+_0 * Z-_1→(1-0j)*X0Y1\n",
      "42: Y-_0 * Z+_1→(1-0j)*X0Y1\n",
      "43: Y-_0 * Z-_1→(-1+0j)*X0Y1\n",
      "44: Z+_0 * Z+_1→(1+0j)*X0X1\n",
      "45: Z+_0 * Z-_1→(1+0j)*X0X1\n",
      "46: Z-_0 * Z+_1→(-1+0j)*X0X1\n",
      "47: Z-_0 * Z-_1→(-1+0j)*X0X1\n",
      "48: Z+_0 * X+_1→(1+0j)*X0\n",
      "49: Z+_0 * X-_1→(-1+0j)*X0\n",
      "50: Z-_0 * X+_1→(-1+0j)*X0\n",
      "51: Z-_0 * X-_1→(1+0j)*X0\n",
      "52: Z+_0 * Y+_1→(1+0j)*Y0Z1\n",
      "53: Z+_0 * Y-_1→(-1+0j)*Y0Z1\n",
      "54: Z-_0 * Y+_1→(-1+0j)*Y0Z1\n",
      "55: Z-_0 * Y-_1→(1+0j)*Y0Z1\n",
      "56: Z+_0 * Z+_1→(-1+0j)*Y0Y1\n",
      "57: Z+_0 * Z-_1→(1-0j)*Y0Y1\n",
      "58: Z-_0 * Z+_1→(1-0j)*Y0Y1\n",
      "59: Z-_0 * Z-_1→(-1+0j)*Y0Y1\n"
     ]
    }
   ],
   "source": [
    "print('The program is, again:')\n",
    "print(process_exp.program)\n",
    "print('There are more settings:')\n",
    "print(process_exp.settings_string())"
   ]
  },
  {
   "cell_type": "markdown",
   "metadata": {},
   "source": [
    "### Step 3. Acquire the data\n",
    "\n",
    "We will use the QVM, but at this point you could use a QPU.\n",
    "\n",
    "We use a simple wrapper, `acquire_dfe_data`, around the standard `estimate_observables` method to run each `ExperimentSetting` in our `ObservablesExperiment`. By default `acquire_dfe_data` includes an additional error mitigation step that attempts to calibrate estimation of each observable expectation in order to combat readout error.\n",
    "\n",
    "Note that `acquire_dfe_data` returns a `list` of `ExperimentResult`s which is a dataclass defined in the module `observable_estimation.py`.\n",
    "\n",
    "The details of the dataclass and error mitigation strategies are given in the [observable estimation ipython notebook](observable_estimation.ipynb)."
   ]
  },
  {
   "cell_type": "code",
   "execution_count": 8,
   "metadata": {},
   "outputs": [],
   "source": [
    "# get some NOISELESS data\n",
    "results = acquire_dfe_data(qvm, process_exp, num_shots=1000)"
   ]
  },
  {
   "cell_type": "code",
   "execution_count": 9,
   "metadata": {},
   "outputs": [
    {
     "name": "stdout",
     "output_type": "stream",
     "text": [
      "Operator Expectations\n",
      "[1.0, 1.0, 1.0, 1.0, 1.0, 1.0, 1.0, 1.0, 1.0, 1.0, 1.0, 1.0, 1.0, 1.0, 1.0, 1.0, 1.0, 1.0, 1.0, 1.0, 1.0, 1.0, 1.0, 1.0, 1.0, 1.0, 1.0, 1.0, 1.0, 1.0, 1.0, 1.0, 1.0, 1.0, 1.0, 1.0, 1.0, 1.0, 1.0, 1.0, 1.0, 1.0, 1.0, 1.0, 1.0, 1.0, 1.0, 1.0, 1.0, 1.0, 1.0, 1.0, 1.0, 1.0, 1.0, 1.0, 1.0, 1.0, 1.0, 1.0]\n",
      "\n",
      "\n",
      "Calibration Expectations\n",
      "[1.0, 1.0, 1.0, 1.0, 1.0, 1.0, 1.0, 1.0, 1.0, 1.0, 1.0, 1.0, 1.0, 1.0, 1.0, 1.0, 1.0, 1.0, 1.0, 1.0, 1.0, 1.0, 1.0, 1.0, 1.0, 1.0, 1.0, 1.0, 1.0, 1.0, 1.0, 1.0, 1.0, 1.0, 1.0, 1.0, 1.0, 1.0, 1.0, 1.0, 1.0, 1.0, 1.0, 1.0, 1.0, 1.0, 1.0, 1.0, 1.0, 1.0, 1.0, 1.0, 1.0, 1.0, 1.0, 1.0, 1.0, 1.0, 1.0, 1.0]\n"
     ]
    }
   ],
   "source": [
    "# look at the results -- we expect all expectations to be one since there is no noise.\n",
    "print(\"Operator Expectations\")\n",
    "print([res.expectation for res in results])\n",
    "print('\\n')\n",
    "print(\"Calibration Expectations\")\n",
    "print([res.calibration_expectation for res in results])"
   ]
  },
  {
   "cell_type": "code",
   "execution_count": 10,
   "metadata": {},
   "outputs": [],
   "source": [
    "# get some NOISY data\n",
    "n_results_proce = acquire_dfe_data(noisy_qvm, process_exp, num_shots=1000)\n",
    "\n",
    "n_results_state = acquire_dfe_data(noisy_qvm, state_exp, num_shots=1000)"
   ]
  },
  {
   "cell_type": "code",
   "execution_count": 11,
   "metadata": {},
   "outputs": [
    {
     "name": "stdout",
     "output_type": "stream",
     "text": [
      "Noisy Operator Expectations\n",
      "[1.0023, 0.9792, 1.0324, 0.9861, 0.9893, 1.0295, 1.0295, 1.0134, 0.932, 0.9924, 0.9698, 0.9975, 0.9817, 1.0252, 0.9908, 0.9908, 0.9676, 0.9925, 0.9551, 1.0, 0.9954, 0.9977, 0.9586, 0.9977, 0.9729, 0.9412, 0.9593, 0.9751, 0.9123, 0.9699, 0.9323, 0.9574, 0.9726, 0.9954, 0.9772, 1.0, 1.0026, 0.9896, 1.026, 0.9557, 0.9631, 0.9409, 0.9113, 0.9138, 0.9843, 1.0313, 1.0522, 0.9765, 0.9636, 0.9818, 0.9636, 1.0023, 0.9751, 0.9428, 0.9851, 0.9279, 1.0187, 0.9627, 0.9973, 0.984]\n",
      "\n",
      "\n",
      "Noisy Calibration Expectations\n",
      "[0.864, 0.864, 0.864, 0.864, 0.746, 0.746, 0.746, 0.746, 0.794, 0.794, 0.794, 0.794, 0.874, 0.874, 0.874, 0.874, 0.802, 0.802, 0.802, 0.802, 0.87, 0.87, 0.87, 0.87, 0.884, 0.884, 0.884, 0.884, 0.798, 0.798, 0.798, 0.798, 0.876, 0.876, 0.876, 0.876, 0.768, 0.768, 0.768, 0.768, 0.812, 0.812, 0.812, 0.812, 0.766, 0.766, 0.766, 0.766, 0.88, 0.88, 0.88, 0.88, 0.804, 0.804, 0.804, 0.804, 0.75, 0.75, 0.75, 0.75]\n"
     ]
    }
   ],
   "source": [
    "# look at it\n",
    "print(\"Noisy Operator Expectations\")\n",
    "print([np.round(res.expectation, 4) for res in n_results_proce])\n",
    "print('\\n')\n",
    "# given some readout noise we scale up our estimates by the inverse calibration expectation\n",
    "print(\"Noisy Calibration Expectations\")\n",
    "print([res.calibration_expectation for res in n_results_proce])"
   ]
  },
  {
   "cell_type": "markdown",
   "metadata": {},
   "source": [
    "### Step 4. Apply some estimators to the data \"do DFE\"\n",
    "This just performs the calculations we did at the top of the notebook."
   ]
  },
  {
   "cell_type": "markdown",
   "metadata": {},
   "source": [
    "**Process DFE**"
   ]
  },
  {
   "cell_type": "code",
   "execution_count": 12,
   "metadata": {},
   "outputs": [
    {
     "name": "stdout",
     "output_type": "stream",
     "text": [
      "Fidelity point estimate is:  1.0\n",
      "The standard error of the fidelity point estimate is:  0.0\n"
     ]
    }
   ],
   "source": [
    "# estimate using NOISELESS data\n",
    "fid_est, fid_std_err = estimate_dfe(results, 'process')\n",
    "\n",
    "print('Fidelity point estimate is: ',fid_est)\n",
    "print('The standard error of the fidelity point estimate is: ', fid_std_err)"
   ]
  },
  {
   "cell_type": "code",
   "execution_count": 13,
   "metadata": {},
   "outputs": [
    {
     "name": "stdout",
     "output_type": "stream",
     "text": [
      "Fidelity point estimate is 0.9853\n",
      "The std error of the fidelity point estimate is 0.0031\n"
     ]
    }
   ],
   "source": [
    "# estimate using NOISY data\n",
    "nfid_est, nfid_std_err = estimate_dfe(n_results_proce, 'process')\n",
    "\n",
    "print('Fidelity point estimate is', np.round(nfid_est, 4))\n",
    "print('The std error of the fidelity point estimate is', np.round(nfid_std_err, 4))"
   ]
  },
  {
   "cell_type": "markdown",
   "metadata": {},
   "source": [
    "**State DFE**"
   ]
  },
  {
   "cell_type": "code",
   "execution_count": 14,
   "metadata": {},
   "outputs": [
    {
     "name": "stdout",
     "output_type": "stream",
     "text": [
      "Fidelity point estimate is 1.0141\n",
      "The std error of the fidelity point estimate is 0.0165\n"
     ]
    }
   ],
   "source": [
    "# estimate using NOISY data\n",
    "nfid_est_state, nfid_std_err_state = estimate_dfe(n_results_state, 'state')\n",
    "\n",
    "print('Fidelity point estimate is', np.round(nfid_est_state, 4))\n",
    "print('The std error of the fidelity point estimate is', np.round(nfid_std_err_state, 4))"
   ]
  },
  {
   "cell_type": "markdown",
   "metadata": {},
   "source": [
    "### Step 5. Visualize\n"
   ]
  },
  {
   "cell_type": "markdown",
   "metadata": {},
   "source": [
    "**State DFE**\n",
    "\n",
    "We will start with state DFE as it is the simplest case."
   ]
  },
  {
   "cell_type": "markdown",
   "metadata": {},
   "source": [
    "Our strategy here will be to try to reconstruct the state using a state tomography estimator. This is possible\n",
    "since the settings used in DFE are a strict subset of the tomography settings. In fact, this makes the strategy of DFE clear-- we only need to estimate those components of the ideal state that are non-zero in order to compute the fidelity. "
   ]
  },
  {
   "cell_type": "code",
   "execution_count": 15,
   "metadata": {},
   "outputs": [],
   "source": [
    "from forest.benchmarking.tomography import iterative_mle_state_estimate"
   ]
  },
  {
   "cell_type": "code",
   "execution_count": 16,
   "metadata": {},
   "outputs": [
    {
     "data": {
      "text/plain": [
       "array([[0.497+0.j, 0.   +0.j, 0.   +0.j, 0.497+0.j],\n",
       "       [0.   +0.j, 0.003+0.j, 0.002+0.j, 0.   +0.j],\n",
       "       [0.   +0.j, 0.002+0.j, 0.003+0.j, 0.   +0.j],\n",
       "       [0.497+0.j, 0.   +0.j, 0.   +0.j, 0.497+0.j]])"
      ]
     },
     "execution_count": 16,
     "metadata": {},
     "output_type": "execute_result"
    }
   ],
   "source": [
    "rho_est = iterative_mle_state_estimate(n_results_state, qubits=[0,1])\n",
    "\n",
    "np.round(rho_est, 3)"
   ]
  },
  {
   "cell_type": "code",
   "execution_count": 17,
   "metadata": {},
   "outputs": [
    {
     "data": {
      "image/png": "[encoded data removed]",
      "text/plain": [
       "<Figure size 720x360 with 2 Axes>"
      ]
     },
     "metadata": {},
     "output_type": "display_data"
    }
   ],
   "source": [
    "import matplotlib.pyplot as plt\n",
    "from forest.benchmarking.utils import n_qubit_pauli_basis\n",
    "from forest.benchmarking.operator_tools.superoperator_transformations import vec, computational2pauli_basis_matrix\n",
    "from forest.benchmarking.plotting.state_process import plot_pauli_rep_of_state, plot_pauli_bar_rep_of_state\n",
    "\n",
    "# convert to pauli representation\n",
    "n_qubits = 2\n",
    "pl_basis = n_qubit_pauli_basis(n_qubits)\n",
    "c2p = computational2pauli_basis_matrix(2*n_qubits)\n",
    "\n",
    "rho_true_pauli = np.real(c2p @ vec(rho_ideal))\n",
    "rho_mle_pauli = np.real(c2p @ vec(rho_est)) \n",
    "\n",
    "fig1, (ax3, ax4) = plt.subplots(1, 2, figsize=(10,5))\n",
    "title_res = f\"Estimated via DFE data using MLE \\n\" f\"DFE Fidelity = {np.round(nfid_est_state, 5)} ± {np.round(nfid_std_err_state, 6)}\"\n",
    "plot_pauli_bar_rep_of_state(rho_true_pauli.flatten(), ax=ax3, labels=pl_basis.labels, title='Ideal State')\n",
    "plot_pauli_bar_rep_of_state(rho_mle_pauli.flatten(), ax=ax4, labels=pl_basis.labels, title=title_res)\n",
    "fig1.tight_layout()"
   ]
  },
  {
   "cell_type": "markdown",
   "metadata": {},
   "source": [
    "To be clear, each entry on the X axis corresponds to an observable. If we ran full state tomography on the noisy state then the plot on the right would likely have small values for each entry due to noise. However, we note that to compute the fidelity we only need to estimate those entries for which the ideal state is non-zero. The plot on the right shows that we estimated exactly these four entries."
   ]
  },
  {
   "cell_type": "markdown",
   "metadata": {},
   "source": [
    "**Process DFE**\n",
    "\n",
    "The same principle applies to process DFE, but now we must remember that for processes we vary over input states and measurements both."
   ]
  },
  {
   "cell_type": "code",
   "execution_count": 18,
   "metadata": {},
   "outputs": [
    {
     "data": {
      "text/plain": [
       "array([[ 0.5, -0. , -0. ,  0.5, -0. ,  0.5,  0.5, -0. ,  0.5, -0. ,  0. ,\n",
       "        -0.5, -0. ,  0.5, -0.5,  0. ],\n",
       "       [-0. , -0. ,  0. , -0. , -0. ,  0. , -0. ,  0. , -0. , -0. , -0. ,\n",
       "         0. , -0. , -0. ,  0. ,  0. ],\n",
       "       [-0. ,  0. , -0. , -0. ,  0. , -0. , -0. ,  0. , -0. ,  0. , -0. ,\n",
       "         0. ,  0. , -0. ,  0. , -0. ],\n",
       "       [ 0.5, -0. , -0. ,  0.5, -0. ,  0.5,  0.5,  0. ,  0.5, -0. ,  0. ,\n",
       "        -0.5, -0. ,  0.5, -0.5,  0. ]])"
      ]
     },
     "execution_count": 18,
     "metadata": {},
     "output_type": "execute_result"
    }
   ],
   "source": [
    "from forest.benchmarking.tomography import pgdb_process_estimate\n",
    "\n",
    "choi_mle_est = pgdb_process_estimate(n_results_proce, qubits)\n",
    "\n",
    "# sneak peak at part of the estimated process\n",
    "np.real_if_close(np.round(choi_mle_est, 2))[0:4]"
   ]
  },
  {
   "cell_type": "code",
   "execution_count": 19,
   "metadata": {},
   "outputs": [
    {
     "data": {
      "image/png": "[encoded data removed]",
      "text/plain": [
       "<Figure size 864x360 with 4 Axes>"
      ]
     },
     "metadata": {},
     "output_type": "display_data"
    }
   ],
   "source": [
    "from forest.benchmarking.plotting.state_process import plot_pauli_transfer_matrix\n",
    "from forest.benchmarking.operator_tools import choi2pauli_liouville, kraus2pauli_liouville\n",
    "\n",
    "\n",
    "fig, (ax1, ax2) = plt.subplots(1, 2, figsize=(12,5))\n",
    "title_res = f\"Estimated via DFE data using MLE \\n\" f\"DFE Fidelity = {np.round(nfid_est, 5)} ± {np.round(nfid_std_err, 6)}\"\n",
    "plot_pauli_transfer_matrix(np.real(kraus2pauli_liouville(U_ideal)), ax1, title='Ideal')\n",
    "plot_pauli_transfer_matrix(np.real(choi2pauli_liouville(choi_mle_est)), ax2, title=title_res)\n",
    "plt.tight_layout()"
   ]
  },
  {
   "cell_type": "markdown",
   "metadata": {},
   "source": [
    "## State fidelity between $\\left|1\\right\\rangle$ and $|\\theta\\rangle = R_y(\\theta)\\left|1\\right\\rangle$\n",
    "\n",
    "\n",
    "In this section we check that state DFE is working correctly by comparing with an analytical calculation. \n",
    "Essentially we would like to prepare $|1\\rangle$ but we simulate an incorrect preparation $|\\theta\\rangle = R_y(\\theta)|1\\rangle$. The fidelity in that case is\n",
    "\n",
    "$$\\begin{align}\n",
    "F\\big(|1\\rangle, |\\theta\\rangle \\big) &= |\\langle 1|R_y(\\theta) |1\\rangle |^2\\\\\n",
    "&= \\cos^2(\\theta/2)\\\\\n",
    "&= \\frac{1}{2} \\big (1 +\\cos(\\theta) \\big). \n",
    "\\end{align}$$\n",
    "\n",
    "So the point of this section is to try to \"experimentally\" plot the fidelity expression as a function of $\\theta$."
   ]
  },
  {
   "cell_type": "code",
   "execution_count": 20,
   "metadata": {},
   "outputs": [],
   "source": [
    "qubit = 0\n",
    "ideal_prep_program = Program(X(qubit))\n",
    "\n",
    "# generate state dfe experiment to estimate fidelity to |1 >\n",
    "experiment = generate_exhaustive_state_dfe_experiment(bm, ideal_prep_program, [qubit])"
   ]
  },
  {
   "cell_type": "markdown",
   "metadata": {},
   "source": [
    "To simulate the error we will modify the ideal program in the experiment to be `RY(theta, 0) X(0)` for various angles $\\theta$; this is the case of unitary rotation error occurring after our ideal preparation `X(0)`.\n",
    "\n",
    "Of course, for characterizing the actual noise on a real QPU our program would simply remain `X(0)` since this is the state preparation we hope will prepare the state $|1 \\rangle$ but which in practice will be affected by noise. Here we must append our own noise `RY(theta)` to the program for the purposes of simulation."
   ]
  },
  {
   "cell_type": "code",
   "execution_count": 21,
   "metadata": {},
   "outputs": [],
   "source": [
    "points = 10\n",
    "res = []\n",
    "res_std_err = []\n",
    "\n",
    "\n",
    "# loop over different angles\n",
    "for theta in np.linspace(0, np.pi, points):\n",
    "    # reuse the same experiment object but modify its program\n",
    "    # field to do the \"noisy\" program\n",
    "    experiment.program = ideal_prep_program + RY(theta, qubit)\n",
    "    ry_state_data = acquire_dfe_data(qvm, experiment, num_shots=1000)\n",
    "    fid_est, fid_std_err = estimate_dfe(ry_state_data, 'state')\n",
    "    res.append(fid_est)\n",
    "    res_std_err.append(2*fid_std_err)"
   ]
  },
  {
   "cell_type": "code",
   "execution_count": 22,
   "metadata": {},
   "outputs": [
    {
     "data": {
      "image/png": "[encoded data removed]",
      "text/plain": [
       "<Figure size 432x288 with 1 Axes>"
      ]
     },
     "metadata": {},
     "output_type": "display_data"
    }
   ],
   "source": [
    "pyplot.errorbar(np.linspace(0, np.pi, points), res, res_std_err, fmt=\".\", label=\"Simulation\")\n",
    "pyplot.plot(np.linspace(0, np.pi, points), (1/2+1/2*np.cos(np.linspace(0, np.pi, points))), label=\"Theory\")\n",
    "pyplot.xlabel(r\"$\\theta$\")\n",
    "pyplot.ylabel(\"Fidelity\")\n",
    "pyplot.legend()\n",
    "pyplot.title(r\"State fidelity between $\\left|1\\right\\rangle$ and $R_y(\\theta)\\left|1\\right\\rangle$\")\n",
    "pyplot.show()"
   ]
  },
  {
   "cell_type": "markdown",
   "metadata": {},
   "source": [
    "as expected, the fidelity decays from the ideal with increasing values of theta."
   ]
  },
  {
   "cell_type": "markdown",
   "metadata": {},
   "source": [
    "## Process fidelity between $I$ and $R_y(\\theta)$\n",
    "\n",
    "Like the state fidelity example above we will construct a DFE experiment to estimate the fidelity between the ideal identity operation and a 'noisy identity' where we insert the unitary error $R_y(\\theta)$. Then we will show that process DFE is consistent with the analytical calculation.\n",
    "\n",
    "The process fidelity is easy to calculate using Eqn 5 from [arXiv:quant-ph/0701138](https://arxiv.org/pdf/quant-ph/0701138.pdf). The fidelity between the unitary $U_0$ and the quantum operation specified by the Kraus operators $\\{ G_k \\}$ is \n",
    "\n",
    "$$F(\\{ G_k \\}, U_0) \n",
    "= \\frac{1}{d(d+1)} \\big ( {\\rm Tr}\\big [\\sum_k M_k^\\dagger M_k \\big ] + \\sum_k |{\\rm Tr}[ M_k]|^2 \\big )$$\n",
    "\n",
    "where $M_k = U_0^\\dagger G_k$.\n",
    "\n",
    "In the context we care about we have a single Kraus operator $\\{ G_k \\} = \\{R_y(\\theta)\\}$ and $U_0=I \\implies M_k = R_y(\\theta)$. So the fidelity becomes\n",
    "\n",
    "$$F\\big(R_y(\\theta), I \\big) \n",
    "= \\frac{1}{3} \\big (1 +2\\cos^2(\\theta/2) \\big )$$\n",
    "\n",
    "where we used $R_y(\\theta) = \\exp[-i \\theta Y /2]= \\cos(\\theta/2) I - i \\sin(\\theta/2)Y$."
   ]
  },
  {
   "cell_type": "code",
   "execution_count": 23,
   "metadata": {},
   "outputs": [],
   "source": [
    "# here our ideal program is the Identity process\n",
    "qubit = 0\n",
    "ideal_process_program = Program(I(qubit))\n",
    "\n",
    "# generate process DFE experiment to estimate fidelity to I\n",
    "expt = generate_exhaustive_process_dfe_experiment(bm, ideal_process_program, [qubit])"
   ]
  },
  {
   "cell_type": "markdown",
   "metadata": {},
   "source": [
    "Now, as with state dfe, we will simulate noisy implementation of the identity by modifying the program that is actually run in the experiment to be `RY(theta,0)` instead of just the identity. \n",
    "\n",
    "As above we emphasize that modifying the program in this way only makes sense if you are inserting your own simulation of noise. To characterize real noise on a QPU the program should not be changed after generating the experiment, since the generation code tailors the experiment to the provided program."
   ]
  },
  {
   "cell_type": "markdown",
   "metadata": {},
   "source": [
    "**Note:** in some of the cells below there is a comment `# NBVAL_SKIP` that is used to speed up our tests by skipping that particular cell."
   ]
  },
  {
   "cell_type": "code",
   "execution_count": 24,
   "metadata": {},
   "outputs": [],
   "source": [
    "# NBVAL_SKIP\n",
    "num_points = 10\n",
    "thetas = np.linspace(0, np.pi, num_points)\n",
    "res = []\n",
    "res_std_err = []\n",
    "for theta in thetas: \n",
    "    # modify the experiment object to do the noisy program instead\n",
    "    expt.program = ideal_process_program + RY(theta, qubit)\n",
    "    ry_proc_data = acquire_dfe_data(qvm, expt, num_shots=500)\n",
    "    fid_est, fid_std_err = estimate_dfe(ry_proc_data, 'process')\n",
    "    res.append(fid_est)\n",
    "    res_std_err.append(2*fid_std_err)"
   ]
  },
  {
   "cell_type": "code",
   "execution_count": 25,
   "metadata": {},
   "outputs": [
    {
     "data": {
      "image/png": "[encoded data removed]",
      "text/plain": [
       "<Figure size 432x288 with 1 Axes>"
      ]
     },
     "metadata": {},
     "output_type": "display_data"
    }
   ],
   "source": [
    "# NBVAL_SKIP\n",
    "pyplot.errorbar(thetas, res, res_std_err, fmt=\".\", label=\"Simulation\")\n",
    "pyplot.plot(thetas, (1 + 2*np.cos(thetas/2)**2)/3,\n",
    "            label=\"theory\")\n",
    "pyplot.xlabel(r\"$\\theta$\")\n",
    "pyplot.ylabel(\"Fidelity\")\n",
    "pyplot.legend()\n",
    "pyplot.ylim(0.25, 1.05)\n",
    "pyplot.title(r\"Process fidelity between $I$ and $R_y(\\theta)$\")\n",
    "pyplot.show()"
   ]
  },
  {
   "cell_type": "markdown",
   "metadata": {},
   "source": [
    "## Advanced "
   ]
  },
  {
   "cell_type": "markdown",
   "metadata": {},
   "source": [
    "### Monte Carlo Sampling of large graph states\n",
    "\n",
    "We can do [Monte Carlo](https://en.wikipedia.org/wiki/Monte_Carlo_method) or random sampling of `ExperimentSettings` for large states or processes.\n",
    "\n",
    "* `generate_monte_carlo_state_dfe_experiment`\n",
    "* `generate_monte_carlo_process_dfe_experiment`\n",
    "\n",
    "generally you need to specify the number of terms you would like to sample for the desired time savings"
   ]
  },
  {
   "cell_type": "code",
   "execution_count": 26,
   "metadata": {},
   "outputs": [],
   "source": [
    "import networkx as nx\n",
    "from matplotlib import pyplot as plt\n",
    "from forest.benchmarking.entangled_states import create_graph_state"
   ]
  },
  {
   "cell_type": "markdown",
   "metadata": {},
   "source": [
    "We will demonstrate state DFE on a graph state over 5 qubits. First, we will take some subgraph of the larger QC topology. "
   ]
  },
  {
   "cell_type": "code",
   "execution_count": 27,
   "metadata": {},
   "outputs": [
    {
     "name": "stderr",
     "output_type": "stream",
     "text": [
      "/home/kylegulshen/anaconda3/lib/python3.6/site-packages/networkx/drawing/nx_pylab.py:518: MatplotlibDeprecationWarning: \n",
      "The iterable function was deprecated in Matplotlib 3.1 and will be removed in 3.3. Use np.iterable instead.\n",
      "  if not cb.iterable(width):\n",
      "/home/kylegulshen/anaconda3/lib/python3.6/site-packages/networkx/drawing/nx_pylab.py:565: MatplotlibDeprecationWarning: \n",
      "The is_numlike function was deprecated in Matplotlib 3.0 and will be removed in 3.2. Use isinstance(..., numbers.Number) instead.\n",
      "  if cb.is_numlike(alpha):\n"
     ]
    },
    {
     "data": {
      "image/png": "[encoded data removed]",
      "text/plain": [
       "<Figure size 432x288 with 1 Axes>"
      ]
     },
     "metadata": {},
     "output_type": "display_data"
    }
   ],
   "source": [
    "nx.draw(noisy_qvm.qubit_topology(), with_labels=True)\n",
    "\n",
    "# we will do a subgraph\n",
    "graph = nx.from_edgelist([(0, 1), (0, 3), (1, 2), (1, 4), (3, 4)])"
   ]
  },
  {
   "cell_type": "markdown",
   "metadata": {},
   "source": [
    "We use a helper to create the prep program"
   ]
  },
  {
   "cell_type": "code",
   "execution_count": 28,
   "metadata": {},
   "outputs": [
    {
     "name": "stdout",
     "output_type": "stream",
     "text": [
      "H 0\n",
      "H 1\n",
      "H 3\n",
      "H 2\n",
      "H 4\n",
      "CZ 0 1\n",
      "CZ 0 3\n",
      "CZ 1 2\n",
      "CZ 1 4\n",
      "CZ 3 4\n",
      "\n"
     ]
    }
   ],
   "source": [
    "graph_prep_prog = create_graph_state(graph)\n",
    "\n",
    "qubits = list(graph_prep_prog.get_qubits())\n",
    "print(graph_prep_prog)"
   ]
  },
  {
   "cell_type": "markdown",
   "metadata": {},
   "source": [
    "Generate both exhaustive and monte_carlo experiments for comparison"
   ]
  },
  {
   "cell_type": "code",
   "execution_count": 29,
   "metadata": {},
   "outputs": [],
   "source": [
    "gstate_exp_exh = generate_exhaustive_state_dfe_experiment(bm, graph_prep_prog, qubits)\n",
    "gstate_exp_mc = generate_monte_carlo_state_dfe_experiment(bm, graph_prep_prog, qubits, n_terms=8)"
   ]
  },
  {
   "cell_type": "code",
   "execution_count": 30,
   "metadata": {},
   "outputs": [
    {
     "name": "stdout",
     "output_type": "stream",
     "text": [
      "In exhaustive state DFE there are 31 experiments.\n",
      "\n",
      "In monte carlo state DFE we chose 8 experiments.\n"
     ]
    }
   ],
   "source": [
    "num_exh_exp = len(list(gstate_exp_exh.setting_strings()))\n",
    "num_mc_exp = len(list(gstate_exp_mc.setting_strings()))\n",
    "\n",
    "print(f'In exhaustive state DFE there are {num_exh_exp} experiments.\\n' )\n",
    "\n",
    "print(f'In monte carlo state DFE we chose {num_mc_exp} experiments.' )"
   ]
  },
  {
   "cell_type": "markdown",
   "metadata": {},
   "source": [
    "Run each experiment and compare estimates and runtimes."
   ]
  },
  {
   "cell_type": "code",
   "execution_count": 31,
   "metadata": {},
   "outputs": [
    {
     "name": "stdout",
     "output_type": "stream",
     "text": [
      "The five qubit graph fidelity estimate is 0.9234208202870585.\n",
      "\n",
      "Monte-Carlo took  41.18 seconds.\n"
     ]
    }
   ],
   "source": [
    "# NBVAL_SKIP\n",
    "\n",
    "# because of the #NBVAL_SKIP `%%time` wont work\n",
    "from time import time\n",
    "start_time = time()\n",
    "\n",
    "graph_state_mc_data = acquire_dfe_data(noisy_qvm, gstate_exp_mc, num_shots=500)\n",
    "\n",
    "fid_est, fid_std_err = estimate_dfe(graph_state_mc_data, 'state')\n",
    "print(f'The five qubit graph fidelity estimate is {fid_est}.\\n')\n",
    "print('Monte-Carlo took ', np.round(time()-start_time, 2), 'seconds.')"
   ]
  },
  {
   "cell_type": "code",
   "execution_count": 32,
   "metadata": {},
   "outputs": [
    {
     "name": "stdout",
     "output_type": "stream",
     "text": [
      "The five qubit graph fidelity estimate is 0.9395043896868677.\n",
      "\n",
      "Exhaustive took  204.76 seconds.\n"
     ]
    }
   ],
   "source": [
    "# NBVAL_SKIP\n",
    "\n",
    "start_time = time()\n",
    "\n",
    "graph_state_exh_data = acquire_dfe_data(noisy_qvm, gstate_exp_exh, num_shots=500)\n",
    "\n",
    "fid_est, fid_std_err = estimate_dfe(graph_state_exh_data, 'state')\n",
    "print(f'The five qubit graph fidelity estimate is {fid_est}.\\n')\n",
    "print('Exhaustive took ', np.round(time()-start_time, 2), 'seconds.')"
   ]
  },
  {
   "cell_type": "markdown",
   "metadata": {},
   "source": [
    "### DFE measurements that include spectator qubits to signal cross talk.\n",
    "\n",
    "Suppose you wanted to do process tomography on a CZ gate.\n",
    "\n",
    "It turns out in many superconducting qubits there are many kinds of cross-talk at play, that is, noise which affects qubits not directly involved in the gate.\n",
    "\n",
    "\n",
    "One way to measure such noise is to do the gate you care about and additionally specify spectator qubits not involved in the gate when creating the experiment.\n",
    "If the actual process is not Identity on those qubits then DFE will pick it up.\n",
    "\n",
    "Of course, such experiments are best done on the QPU or at the least with a noise model that includes these effects."
   ]
  },
  {
   "cell_type": "code",
   "execution_count": 33,
   "metadata": {},
   "outputs": [],
   "source": [
    "prog = Program(CZ(0,1))\n",
    "qubits = [0,1,2]"
   ]
  },
  {
   "cell_type": "code",
   "execution_count": 34,
   "metadata": {},
   "outputs": [
    {
     "name": "stdout",
     "output_type": "stream",
     "text": [
      "The CZ gate is: CZ(0,1)\n"
     ]
    },
    {
     "name": "stderr",
     "output_type": "stream",
     "text": [
      "/home/kylegulshen/anaconda3/lib/python3.6/site-packages/networkx/drawing/nx_pylab.py:518: MatplotlibDeprecationWarning: \n",
      "The iterable function was deprecated in Matplotlib 3.1 and will be removed in 3.3. Use np.iterable instead.\n",
      "  if not cb.iterable(width):\n",
      "/home/kylegulshen/anaconda3/lib/python3.6/site-packages/networkx/drawing/nx_pylab.py:565: MatplotlibDeprecationWarning: \n",
      "The is_numlike function was deprecated in Matplotlib 3.0 and will be removed in 3.2. Use isinstance(..., numbers.Number) instead.\n",
      "  if cb.is_numlike(alpha):\n"
     ]
    },
    {
     "data": {
      "image/png": "[encoded data removed]",
      "text/plain": [
       "<Figure size 432x288 with 1 Axes>"
      ]
     },
     "metadata": {},
     "output_type": "display_data"
    }
   ],
   "source": [
    "print('The CZ gate is: CZ(0,1)')\n",
    "nx.draw(nx.from_edgelist([(0, 1), (1, 2)]), with_labels=True)"
   ]
  },
  {
   "cell_type": "code",
   "execution_count": 35,
   "metadata": {},
   "outputs": [],
   "source": [
    "xtalk_proc_exp = generate_monte_carlo_process_dfe_experiment(bm, prog, qubits, n_terms=20)"
   ]
  },
  {
   "cell_type": "code",
   "execution_count": 36,
   "metadata": {},
   "outputs": [
    {
     "data": {
      "text/plain": [
       "20"
      ]
     },
     "execution_count": 36,
     "metadata": {},
     "output_type": "execute_result"
    }
   ],
   "source": [
    "len(list(xtalk_proc_exp.setting_strings()))"
   ]
  },
  {
   "cell_type": "code",
   "execution_count": 37,
   "metadata": {},
   "outputs": [],
   "source": [
    "xtalk_data = acquire_dfe_data(qvm, xtalk_proc_exp, num_shots=500)"
   ]
  },
  {
   "cell_type": "code",
   "execution_count": 38,
   "metadata": {},
   "outputs": [
    {
     "data": {
      "text/plain": [
       "1.0"
      ]
     },
     "execution_count": 38,
     "metadata": {},
     "output_type": "execute_result"
    }
   ],
   "source": [
    "fid_est, fid_std_err = estimate_dfe(xtalk_data, 'process')\n",
    "fid_est"
   ]
  },
  {
   "cell_type": "markdown",
   "metadata": {},
   "source": [
    "Again, we expect this to be 1.0 unless we are running on a real QPU or incorporate cross-talk into the QVM noise model.\n",
    "\n",
    "If we wanted to we could \"amplify\" the cross talk error by applying the gate many times"
   ]
  },
  {
   "cell_type": "code",
   "execution_count": 39,
   "metadata": {},
   "outputs": [],
   "source": [
    "prog = Program([CZ(0,1)]*3)"
   ]
  },
  {
   "cell_type": "markdown",
   "metadata": {},
   "source": [
    "### Parallel state and process DFE\n",
    "\n",
    "The `ObservablesExperiment` [framework](observable_estimation.ipynb) allows for easy parallelization of experiments that operate on disjoint sets of qubits. Below we will demonstrate the simple example of performing process DFE on two separate bit flip processes `Program(X(0))` and `Program(X(1))`. To run each experiment in serial would require $n_1 + n_2 = 2n$ experimental runs ($n_1 = n_2 = n$ in this case), but when we run a 'parallel' experiment we need only $n$ runs. \n",
    "\n",
    "Note that the parallel experiment is not the same as doing DFE on the program `Program(X(0), X(1))` because in the later case we need to do more data acquisition runs on the qc and we get more information back; even if each process perfectly transforms the 1q states it could still behave erroneously on some 2q states but we would only catch that if we did 2q DFE. The `ExperimentSetting`s for the 2q experiment are a superset of the parallel 1q settings. We also cannot directly compare a parallel experiment with two serial experiments, because in a parallel experiment 'cross-talk' and other multi-qubit effects can impact the overall process; that is, the physics of 'parallel' experiments cannot in general be neatly factored into two serial experiments. \n",
    "\n",
    "See the linked [notebook](observable_estimation.ipynb) for more explanation and words of caution."
   ]
  },
  {
   "cell_type": "code",
   "execution_count": 40,
   "metadata": {},
   "outputs": [
    {
     "name": "stdout",
     "output_type": "stream",
     "text": [
      "Original number of runs: 12\n",
      "Parallelized number of runs: 6\n",
      "\n",
      "X 0; X 1\n",
      "0: X+_0→(1+0j)*X0, X+_1→(1+0j)*X1\n",
      "1: X-_0→(-1+0j)*X0, X-_1→(-1+0j)*X1\n",
      "2: Y+_0→(-1+0j)*Y0, Y+_1→(-1+0j)*Y1\n",
      "3: Y-_0→(1-0j)*Y0, Y-_1→(1-0j)*Y1\n",
      "4: Z+_0→(-1+0j)*Z0, Z+_1→(-1+0j)*Z1\n",
      "5: Z-_0→(1-0j)*Z0, Z-_1→(1-0j)*Z1\n"
     ]
    }
   ],
   "source": [
    "from forest.benchmarking.observable_estimation import ObservablesExperiment, merge_disjoint_experiments\n",
    "\n",
    "disjoint_sets_of_qubits = [(0,),(1,)]\n",
    "programs = [Program(X(*q)) for q in disjoint_sets_of_qubits]\n",
    "\n",
    "expts_to_parallelize = []\n",
    "for qubits, program in zip(disjoint_sets_of_qubits, programs):\n",
    "    expt = generate_exhaustive_process_dfe_experiment(bm, program, qubits)\n",
    "    expts_to_parallelize.append(expt)\n",
    "\n",
    "# get a merged experiment with grouped settings for parallel data acquisition\n",
    "parallel_expt = merge_disjoint_experiments(expts_to_parallelize)\n",
    "\n",
    "print(f'Original number of runs: {sum(len(expt) for expt in expts_to_parallelize)}')\n",
    "print(f'Parallelized number of runs: {len(parallel_expt)}\\n')\n",
    "print(parallel_expt)"
   ]
  },
  {
   "cell_type": "markdown",
   "metadata": {},
   "source": [
    "Collect the data. Separate the results by qubit to get back estimates for each process."
   ]
  },
  {
   "cell_type": "code",
   "execution_count": 41,
   "metadata": {},
   "outputs": [
    {
     "name": "stdout",
     "output_type": "stream",
     "text": [
      "(0.9988672847543816, 0.007037532516941518)\n",
      "(1.0156912964835694, 0.0074100435152986465)\n"
     ]
    },
    {
     "data": {
      "image/png": "[encoded data removed]",
      "text/plain": [
       "<Figure size 864x360 with 4 Axes>"
      ]
     },
     "metadata": {},
     "output_type": "display_data"
    }
   ],
   "source": [
    "from forest.benchmarking.observable_estimation import get_results_by_qubit_groups\n",
    "\n",
    "parallel_results = acquire_dfe_data(noisy_qvm, parallel_expt, num_shots = 500)\n",
    "\n",
    "individual_results = get_results_by_qubit_groups(parallel_results, disjoint_sets_of_qubits)\n",
    "\n",
    "fidelity_estimates = []\n",
    "process_estimates = []\n",
    "for q in disjoint_sets_of_qubits:\n",
    "    fidelity_estimate = estimate_dfe(individual_results[q], 'process')\n",
    "    fidelity_estimates.append(fidelity_estimate)\n",
    "    print(fidelity_estimate)\n",
    "    \n",
    "    proc_estimate = pgdb_process_estimate(individual_results[q], q)\n",
    "    process_estimates.append(proc_estimate)\n",
    "\n",
    "fig, axes = plt.subplots(1, len(process_estimates), figsize=(12,5))\n",
    "for idx, est in enumerate(process_estimates):\n",
    "    plot_pauli_transfer_matrix(choi2pauli_liouville(est), axes[idx], title=f'Estimate {idx}')\n",
    "\n",
    "plt.tight_layout()\n"
   ]
  },
  {
   "cell_type": "code",
   "execution_count": null,
   "metadata": {},
   "outputs": [],
   "source": []
  }
 ],
 "metadata": {
  "kernelspec": {
   "display_name": "Python 3",
   "language": "python",
   "name": "python3"
  },
  "language_info": {
   "codemirror_mode": {
    "name": "ipython",
    "version": 3
   },
   "file_extension": ".py",
   "mimetype": "text/x-python",
   "name": "python",
   "nbconvert_exporter": "python",
   "pygments_lexer": "ipython3",
   "version": "3.6.5"
  }
 },
 "nbformat": 4,
 "nbformat_minor": 4
}